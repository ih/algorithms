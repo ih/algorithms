{
 "metadata": {
  "name": "",
  "signature": "sha256:3ec3550c80a5d1e5a1a9121bddff65a0f71c5172c49b7cc48fd2d48b8efd5e02"
 },
 "nbformat": 3,
 "nbformat_minor": 0,
 "worksheets": [
  {
   "cells": [
    {
     "cell_type": "code",
     "collapsed": false,
     "input": [
      "import random\n",
      "import time"
     ],
     "language": "python",
     "metadata": {},
     "outputs": [],
     "prompt_number": 12
    },
    {
     "cell_type": "code",
     "collapsed": false,
     "input": [
      "def randomText(size):\n",
      "    filename = 'random' + str(size) + '.txt'\n",
      "    text_file = open(filename, 'w')\n",
      "    for i in range(size):\n",
      "        text_file.write(random.choice(['a','b']))\n",
      "    text_file.close()   "
     ],
     "language": "python",
     "metadata": {},
     "outputs": [],
     "prompt_number": 22
    },
    {
     "cell_type": "code",
     "collapsed": false,
     "input": [
      "def alternating(size):\n",
      "    filename = 'alternating' + str(size) + '.txt'\n",
      "    text_file = open(filename, 'w')\n",
      "    for i in range(size/2):\n",
      "        text_file.write('ab')\n",
      "    text_file.close()"
     ],
     "language": "python",
     "metadata": {},
     "outputs": [],
     "prompt_number": 23
    },
    {
     "cell_type": "code",
     "collapsed": false,
     "input": [
      "randomText(5)"
     ],
     "language": "python",
     "metadata": {},
     "outputs": [],
     "prompt_number": 26
    },
    {
     "cell_type": "code",
     "collapsed": false,
     "input": [
      "alternating(1000)"
     ],
     "language": "python",
     "metadata": {},
     "outputs": [],
     "prompt_number": 25
    }
   ],
   "metadata": {}
  }
 ]
}