{
 "metadata": {
  "name": "",
  "signature": "sha256:5a695a962bd899215dc33abfe5205a76ede367a632f5db11b32e9d9fdfb11aa3"
 },
 "nbformat": 3,
 "nbformat_minor": 0,
 "worksheets": [
  {
   "cells": [
    {
     "cell_type": "code",
     "collapsed": false,
     "input": [
      "import pdb\n",
      "import uuid"
     ],
     "language": "python",
     "metadata": {},
     "outputs": [],
     "prompt_number": 173
    },
    {
     "cell_type": "code",
     "collapsed": false,
     "input": [
      "len(set([1]).intersection(set([1]), set([1])))"
     ],
     "language": "python",
     "metadata": {},
     "outputs": [
      {
       "metadata": {},
       "output_type": "pyout",
       "prompt_number": 171,
       "text": [
        "1"
       ]
      }
     ],
     "prompt_number": 171
    },
    {
     "cell_type": "code",
     "collapsed": false,
     "input": [
      "class UID:\n",
      "    def __init__(self):\n",
      "        self.prefix_counts = {}\n",
      "    \n",
      "    def generate(self, prefix = 'S'):\n",
      "        try:\n",
      "            self.prefix_counts[prefix] += 1\n",
      "        except KeyError:\n",
      "            self.prefix_counts[prefix] = 0\n",
      "        return prefix + str(self.prefix_counts[prefix])\n",
      "\n",
      "uid = UID()\n",
      "\n",
      "class Symbol:\n",
      "    def __init__(self, value=None):\n",
      "        self.value = value if value is not None else uid.generate('R')\n",
      "        self.uid = self.value if not value else uid.generate('S')\n",
      "        self.next_symbol = None\n",
      "        self.previous_symbol = None\n",
      "        \n",
      "    def getId(self):\n",
      "        return self.value.lhs.getId() if isinstance(self.value, Rule) else self.value\n",
      "    \n",
      "    def isRuleSymbol(self):\n",
      "        return self.value[0] == 'R'\n",
      "    \n",
      "    def __str__(self):\n",
      "        prefix = ''\n",
      "        suffix = ''\n",
      "        if self.previous_symbol:\n",
      "            prefix = '<='\n",
      "        if self.next_symbol:\n",
      "            suffix = '=>'\n",
      "        return  prefix + str(self.value) + '[' + self.uid + ']' + suffix\n",
      "\n",
      "class Digram:\n",
      "    def __init__(self, first_symbol, second_symbol):\n",
      "        self.first = first_symbol\n",
      "        self.second = second_symbol\n",
      "\n",
      "    def getId(self):\n",
      "        return (self.first.value, self.second.value)\n",
      "    \n",
      "    def isOverlapping(self, otherDigram):\n",
      "        return (self.first == otherDigram.first or self.first == otherDigram.second \n",
      "                or self.second == otherDigram.first or self.second == otherDigram.second)\n",
      "    \n",
      "    def __eq__(self, obj):\n",
      "        try:\n",
      "            return self.first == obj.first and self.second == obj.second\n",
      "        except:\n",
      "            return False\n",
      "    \n",
      "    def __str__(self):\n",
      "        return '(' + str(self.first) + ',' + str(self.second) + ')'\n",
      "\n",
      "\n",
      "class Rule:\n",
      "    def __init__(self):\n",
      "        # start of the rhs\n",
      "        self.head = None\n",
      "        self.tail = None\n",
      "        self.reference_count = 0\n",
      "        self.lhs = Symbol()\n",
      "        # to make it easier to delete the rule\n",
      "        self.applications = []\n",
      "        \n",
      "    def append(self, symbol):\n",
      "        if self.head is None:\n",
      "            self.head = symbol\n",
      "            self.tail = symbol\n",
      "            symbol.previous_symbol = self.lhs\n",
      "            self.lhs.next_symbol = symbol\n",
      "            return None\n",
      "        else:\n",
      "            self.tail.next_symbol = symbol\n",
      "            symbol.previous_symbol = self.tail\n",
      "            self.tail = symbol\n",
      "            return Digram(self.tail.previous_symbol, self.tail)\n",
      "\n",
      "    def substituteRule(self, digram, rule, other_rules):\n",
      "        # link the existing rhs to new rule symbol\n",
      "        digram_rule = self\n",
      "        rule_symbol = Symbol(rule.lhs.value)\n",
      "        rule.applications.append(rule_symbol)\n",
      "        digram.first.previous_symbol.next_symbol = rule_symbol\n",
      "        if digram.second.next_symbol:\n",
      "            digram.second.next_symbol.previous_symbol = rule_symbol\n",
      "        # link the rule symbol to the rhs\n",
      "        rule_symbol.next_symbol = digram.second.next_symbol\n",
      "        rule_symbol.previous_symbol = digram.first.previous_symbol\n",
      "        rule.reference_count += 1\n",
      "        # adjust the head and tail appropriately\n",
      "        if rule_symbol.previous_symbol == digram_rule.lhs:\n",
      "            digram_rule.head = rule_symbol\n",
      "        if rule_symbol.next_symbol is None:\n",
      "            digram_rule.tail = rule_symbol        \n",
      "        # record the new and old digrams\n",
      "        new_digrams = []\n",
      "        old_digrams = []\n",
      "        if not rule_symbol.previous_symbol == digram_rule.lhs:\n",
      "            new_digrams.append(Digram(rule_symbol.previous_symbol, rule_symbol))\n",
      "            old_digrams.append(Digram(digram.first.previous_symbol, digram.first))\n",
      "        if rule_symbol.next_symbol:\n",
      "            new_digrams.append(Digram(rule_symbol, rule_symbol.next_symbol))\n",
      "            old_digrams.append(Digram(digram.second, digram.second.next_symbol))\n",
      "\n",
      "        # unlink the digram\n",
      "        digram.first.previous_symbol = None\n",
      "        digram.second.next_symbol = None\n",
      "        \n",
      "        # enforce rule utility constraint\n",
      "        if digram.first.isRuleSymbol():\n",
      "            assert digram.first.value in other_rules\n",
      "            first_new_digrams, first_old_digrams = other_rules[digram.first.value].reduceReferenceCount(digram.first, other_rules)\n",
      "            new_digrams.extend(first_new_digrams)\n",
      "            old_digrams.extend(first_old_digrams)\n",
      "        if digram.second.isRuleSymbol():\n",
      "            assert digram.second.value in other_rules\n",
      "            second_new_digrams, second_old_digrams = other_rules[digram.second.value].reduceReferenceCount(digram.second, other_rules)\n",
      "            new_digrams.extend(second_new_digrams)\n",
      "            old_digrams.extend(second_old_digrams)\n",
      "            \n",
      "        return new_digrams, old_digrams\n",
      "\n",
      "    def reduceReferenceCount(self, rule_symbol, all_rules):\n",
      "        print 'reducing reference count: %s' % rule_symbol\n",
      "        self.applications.remove(rule_symbol)\n",
      "        self.reference_count -= 1\n",
      "        new_digrams = []\n",
      "        old_digrams = []\n",
      "        if self.reference_count < 2:\n",
      "            print 'removing rule: %s' % rule_symbol\n",
      "\n",
      "            assert(len(self.applications) == 1)\n",
      "            last_application = self.applications[0]\n",
      "            last_application.previous_symbol.next_symbol = self.head\n",
      "            self.head.previous_symbol = last_application.previous_symbol\n",
      "            \n",
      "            # adjust the head and tail appropriately for the rule the last application existed in\n",
      "            # needing both all_rules and the get_rule function, maybe these should be in grammar...\n",
      "            last_application_rule_symbol = last_application\n",
      "            while last_application_rule_symbol.previous_symbol:\n",
      "                last_application_rule_symbol = last_application_rule_symbol.previous_symbol\n",
      "            last_application_rule = all_rules[last_application_rule_symbol.value]\n",
      "            if last_application.previous_symbol.isRuleSymbol():\n",
      "                last_application_rule.head = self.head\n",
      "            if last_application.next_symbol is None:\n",
      "                last_application_rule.tail = self.tail\n",
      "\n",
      "            # if last_application was not in the head position then remember the digram\n",
      "            if last_application.previous_symbol.previous_symbol:\n",
      "                old_digrams.append(Digram(last_application.previous_symbol, last_application))\n",
      "                new_digrams.append(Digram(last_application.previous_symbol, self.head))\n",
      "            if last_application.next_symbol:\n",
      "                last_application.next_symbol.previous_symbol = self.tail\n",
      "                self.tail.next_symbol = last_application.next_symbol\n",
      "                new_digrams.append(Digram(self.tail, last_application.next_symbol))\n",
      "                old_digrams.append(Digram(last_application, last_application.next_symbol))\n",
      "            del all_rules[rule_symbol.value]\n",
      "        return new_digrams, old_digrams\n",
      "            \n",
      "            \n",
      "    \n",
      "    def isRHS(self, digram):\n",
      "        digram_rule = self\n",
      "        return (digram.first.previous_symbol == digram_rule.lhs) and (digram.second.next_symbol is None)\n",
      "    \n",
      "    def __str__(self):\n",
      "        lhs = str(self.lhs)\n",
      "        current = self.head\n",
      "        rhs = str(current)\n",
      "        while current and current.next_symbol:\n",
      "            current = current.next_symbol\n",
      "            rhs += ' ' + str(current)\n",
      "        return lhs + ' -|> ' + rhs\n",
      "            \n",
      "class Grammar:\n",
      "    def __init__(self):\n",
      "        self.start = Rule()\n",
      "        self.rules = {self.start.lhs.value: self.start}\n",
      "        self.digrams = {}\n",
      "        \n",
      "    def enforceConstraints(self, digram):\n",
      "        # ensure digram uniqueness\n",
      "        print 'enforcing constraints for digram: %s' % digram\n",
      "        rule = self.getRule(digram)\n",
      "        digram_id = digram.getId()\n",
      "        if digram_id in self.digrams and not digram.isOverlapping(self.digrams[digram_id]):\n",
      "            existing_digram_rule = self.getRule(self.digrams[digram_id])\n",
      "            if existing_digram_rule.isRHS(self.digrams[digram_id]):\n",
      "                new_digrams, old_digrams = rule.substituteRule(digram, existing_digram_rule, self.rules)\n",
      "                \n",
      "                # update the digrams table\n",
      "                for old_digram in old_digrams:\n",
      "                    try:\n",
      "                        del self.digrams[old_digram.getId()]\n",
      "                    except KeyError:\n",
      "                        pass\n",
      "\n",
      "                for new_digram in new_digrams:\n",
      "                    self.enforceConstraints(new_digram)\n",
      "            else:\n",
      "                new_rhs = Digram(Symbol(digram.first.value), Symbol(digram.second.value))\n",
      "                new_rule = Rule()\n",
      "                new_rule.append(new_rhs.first)\n",
      "                new_rule.append(new_rhs.second)\n",
      "                self.rules[new_rule.lhs.value] = new_rule\n",
      "                if new_rhs.first.isRuleSymbol():\n",
      "                    self.rules[new_rhs.first.value].reference_count += 1\n",
      "                    self.rules[new_rhs.first.value].applications.append(new_rhs.first)\n",
      "                if new_rhs.second.isRuleSymbol():\n",
      "                    self.rules[new_rhs.second.value].reference_count += 1\n",
      "                    self.rules[new_rhs.second.value].applications.append(new_rhs.second)\n",
      "\n",
      "                new_digrams, old_digrams = rule.substituteRule(digram, new_rule, self.rules)\n",
      "                #pdb.set_trace()\n",
      "\n",
      "                # TODO remove outdated digrams from table!\n",
      "                for old_digram in old_digrams:\n",
      "                    try:\n",
      "                        # handle cases like aaaa\n",
      "                        if self.digrams[old_digram.getId()] == old_digram:\n",
      "                            del self.digrams[old_digram.getId()]\n",
      "                    except KeyError:\n",
      "                        pass\n",
      "                existing_new_digrams, existing_old_digrams = existing_digram_rule.substituteRule(self.digrams[digram_id], new_rule, self.rules)\n",
      "                for old_digram in existing_old_digrams:\n",
      "                    try:\n",
      "                        del self.digrams[old_digram.getId()]\n",
      "                    except KeyError:\n",
      "                        # existing_old_digram came from the previous substitution so remove it from new_digrams\n",
      "                        assert old_digram in new_digrams\n",
      "                        new_digrams.remove(old_digram)\n",
      "                if digram_id in self.digrams:\n",
      "                    self.digrams[digram_id] = new_rhs\n",
      "\n",
      "                new_digrams.extend(existing_new_digrams)\n",
      "\n",
      "                \n",
      "                for new_digram in new_digrams:\n",
      "                    self.enforceConstraints(new_digram)\n",
      "        elif digram_id not in self.digrams:\n",
      "            #assert digram_id not in self.digrams\n",
      "            self.digrams[digram_id] = digram\n",
      "\n",
      "    \n",
      "    def getRule(self, digram):\n",
      "        current = digram.first\n",
      "        while current.previous_symbol:\n",
      "            current = current.previous_symbol\n",
      "        # current is the LHS of a rule\n",
      "        return self.rules[current.value]\n",
      "    \n",
      "    def isValid(self):\n",
      "        validity = self.digramTableIsValid()\n",
      "        if not validity:\n",
      "            pdb.set_trace()\n",
      "        return validity\n",
      "    \n",
      "    def digramTableIsValid(self):\n",
      "        # get digrams in grammar\n",
      "        grammar_digrams = set()\n",
      "        for lhs, rule in self.rules.iteritems():\n",
      "            current = rule.head\n",
      "            while current.next_symbol:\n",
      "                current_digram = Digram(current, current.next_symbol)\n",
      "                assert self.digrams[current_digram.getId()] == current_digram or current_digram.isOverlapping(self.digrams[current_digram.getId()])\n",
      "                \n",
      "                assert current_digram.getId() not in grammar_digrams or current_digram.isOverlapping(self.digrams[current_digram.getId()])\n",
      "                grammar_digrams.add(current_digram.getId())\n",
      "                current = current.next_symbol\n",
      "        return set(self.digrams.keys()) == grammar_digrams\n",
      "            \n",
      "            \n",
      "        \n",
      "    def __str__(self):\n",
      "        output = ''\n",
      "        for key, value in self.rules.iteritems():\n",
      "            output += str(value) + '\\n'\n",
      "        return output\n",
      "            "
     ],
     "language": "python",
     "metadata": {},
     "outputs": [],
     "prompt_number": 315
    },
    {
     "cell_type": "code",
     "collapsed": true,
     "input": [
      "def sequiturCompress(data):\n",
      "    grammar = Grammar()\n",
      "    for character in data:\n",
      "        print character\n",
      "        new_digram = grammar.start.append(Symbol(character))\n",
      "        if new_digram:\n",
      "            #pdb.set_trace()\n",
      "            grammar.enforceConstraints(new_digram)\n",
      "            print grammar\n",
      "            assert grammar.isValid()\n",
      "    return grammar\n",
      "\n",
      "print sequiturCompress('abcdbcabcd')"
     ],
     "language": "python",
     "metadata": {},
     "outputs": [
      {
       "output_type": "stream",
       "stream": "stdout",
       "text": [
        "a\n",
        "b\n",
        "enforcing constraints for digram: (<=a[S96]=>,<=b[S97])\n",
        "R12[R12]=> -|> <=a[S96]=> <=b[S97]\n",
        "\n",
        "c\n",
        "enforcing constraints for digram: (<=b[S97]=>,<=c[S98])\n",
        "R12[R12]=> -|> <=a[S96]=> <=b[S97]=> <=c[S98]\n",
        "\n",
        "d\n",
        "enforcing constraints for digram: (<=c[S98]=>,<=d[S99])\n",
        "R12[R12]=> -|> <=a[S96]=> <=b[S97]=> <=c[S98]=> <=d[S99]\n",
        "\n",
        "b\n",
        "enforcing constraints for digram: (<=d[S99]=>,<=b[S100])\n",
        "R12[R12]=> -|> <=a[S96]=> <=b[S97]=> <=c[S98]=> <=d[S99]=> <=b[S100]\n",
        "\n",
        "c\n",
        "enforcing constraints for digram: (<=b[S100]=>,<=c[S101])\n",
        "enforcing constraints for digram: (<=d[S99]=>,<=R13[S104])\n",
        "enforcing constraints for digram: (<=a[S96]=>,<=R13[S105]=>)\n",
        "enforcing constraints for digram: (<=R13[S105]=>,<=d[S99]=>)\n",
        "R12[R12]=> -|> <=a[S96]=> <=R13[S105]=> <=d[S99]=> <=R13[S104]\n",
        "R13[R13]=> -|> <=b[S102]=> <=c[S103]\n",
        "\n",
        "a\n",
        "enforcing constraints for digram: (<=R13[S104]=>,<=a[S106])\n",
        "R12[R12]=> -|> <=a[S96]=> <=R13[S105]=> <=d[S99]=> <=R13[S104]=> <=a[S106]\n",
        "R13[R13]=> -|> <=b[S102]=> <=c[S103]\n",
        "\n",
        "b\n",
        "enforcing constraints for digram: (<=a[S106]=>,<=b[S107])\n",
        "R12[R12]=> -|> <=a[S96]=> <=R13[S105]=> <=d[S99]=> <=R13[S104]=> <=a[S106]=> <=b[S107]\n",
        "R13[R13]=> -|> <=b[S102]=> <=c[S103]\n",
        "\n",
        "c\n",
        "enforcing constraints for digram: (<=b[S107]=>,<=c[S108])\n",
        "enforcing constraints for digram: (<=a[S106]=>,<=R13[S109])\n",
        "reducing reference count: <=R13[S109]\n",
        "reducing reference count: <=R13[S105]\n",
        "enforcing constraints for digram: (<=R13[S104]=>,<=R14[S112])\n",
        "enforcing constraints for digram: (<=R14[S113]=>,<=d[S99]=>)\n",
        "R14[R14]=> -|> <=a[S110]=> <=R13[S111]\n",
        "R12[R12]=> -|> <=R14[S113]=> <=d[S99]=> <=R13[S104]=> <=R14[S112]\n",
        "R13[R13]=> -|> <=b[S102]=> <=c[S103]\n",
        "\n",
        "d\n",
        "enforcing constraints for digram: (<=R14[S112]=>,<=d[S114])\n",
        "reducing reference count: R14[S112]=>\n",
        "reducing reference count: R14[S113]=>\n",
        "removing rule: R14[S113]=>\n",
        "enforcing constraints for digram: (<=R13[S104]=>,<=R15[S117])\n",
        "enforcing constraints for digram: (<=R15[S118]=>,<=R13[S104]=>)\n",
        "enforcing constraints for digram: (<=R13[S111]=>,<=d[S116])\n",
        "R15[R15]=> -|> <=a[S110]=> <=R13[S111]=> <=d[S116]\n",
        "R12[R12]=> -|> <=R15[S118]=> <=R13[S104]=> <=R15[S117]\n",
        "R13[R13]=> -|> <=b[S102]=> <=c[S103]\n",
        "\n",
        "R15[R15]=> -|> <=a[S110]=> <=R13[S111]=> <=d[S116]\n",
        "R12[R12]=> -|> <=R15[S118]=> <=R13[S104]=> <=R15[S117]\n",
        "R13[R13]=> -|> <=b[S102]=> <=c[S103]\n",
        "\n"
       ]
      }
     ],
     "prompt_number": 320
    },
    {
     "cell_type": "code",
     "collapsed": false,
     "input": [
      "sequiturCompress('aabaaab')"
     ],
     "language": "python",
     "metadata": {},
     "outputs": [
      {
       "output_type": "stream",
       "stream": "stdout",
       "text": [
        "a\n",
        "a\n",
        "enforcing constraints for digram: (<=a[S23]=>,<=a[S24])\n",
        "R4[R4]=> -|> <=a[S23]=> <=a[S24]\n",
        "\n",
        "b\n",
        "enforcing constraints for digram: (<=a[S24]=>,<=b[S25])\n",
        "R4[R4]=> -|> <=a[S23]=> <=a[S24]=> <=b[S25]\n",
        "\n",
        "a\n",
        "enforcing constraints for digram: (<=b[S25]=>,<=a[S26])\n",
        "R4[R4]=> -|> <=a[S23]=> <=a[S24]=> <=b[S25]=> <=a[S26]\n",
        "\n",
        "a\n",
        "enforcing constraints for digram: (<=a[S26]=>,<=a[S27])\n",
        "enforcing constraints for digram: (<=b[S25]=>,<=R5[S30])\n",
        "enforcing constraints for digram: (<=R5[S31]=>,<=b[S25]=>)\n",
        "R4[R4]=> -|> <=R5[S31]=> <=b[S25]=> <=R5[S30]\n",
        "R5[R5]=> -|> <=a[S28]=> <=a[S29]\n",
        "\n",
        "a\n",
        "enforcing constraints for digram: (<=R5[S30]=>,<=a[S32])\n",
        "R4[R4]=> -|> <=R5[S31]=> <=b[S25]=> <=R5[S30]=> <=a[S32]\n",
        "R5[R5]=> -|> <=a[S28]=> <=a[S29]\n",
        "\n",
        "b\n",
        "enforcing constraints for digram: (<=a[S32]=>,<=b[S33])\n",
        "R4[R4]=> -|> <=R5[S31]=> <=b[S25]=> <=R5[S30]=> <=a[S32]=> <=b[S33]\n",
        "R5[R5]=> -|> <=a[S28]=> <=a[S29]\n",
        "\n"
       ]
      },
      {
       "metadata": {},
       "output_type": "pyout",
       "prompt_number": 317,
       "text": [
        "<__main__.Grammar instance at 0x10b3ec320>"
       ]
      }
     ],
     "prompt_number": 317
    },
    {
     "cell_type": "code",
     "collapsed": false,
     "input": [
      "sequiturCompress('aaaa')"
     ],
     "language": "python",
     "metadata": {},
     "outputs": [
      {
       "output_type": "stream",
       "stream": "stdout",
       "text": [
        "a\n",
        "a\n",
        "enforcing constraints for digram: (<=a[S34]=>,<=a[S35])\n",
        "R6[R6]=> -|> <=a[S34]=> <=a[S35]\n",
        "\n",
        "a\n",
        "enforcing constraints for digram: (<=a[S35]=>,<=a[S36])\n",
        "R6[R6]=> -|> <=a[S34]=> <=a[S35]=> <=a[S36]\n",
        "\n",
        "a\n",
        "enforcing constraints for digram: (<=a[S36]=>,<=a[S37])\n",
        "enforcing constraints for digram: (<=R7[S41]=>,<=R7[S40])\n",
        "R6[R6]=> -|> <=R7[S41]=> <=R7[S40]\n",
        "R7[R7]=> -|> <=a[S38]=> <=a[S39]\n",
        "\n"
       ]
      },
      {
       "metadata": {},
       "output_type": "pyout",
       "prompt_number": 318,
       "text": [
        "<__main__.Grammar instance at 0x10b359200>"
       ]
      }
     ],
     "prompt_number": 318
    },
    {
     "cell_type": "code",
     "collapsed": false,
     "input": [
      "sequiturCompress('ababababababababababababab')"
     ],
     "language": "python",
     "metadata": {},
     "outputs": [
      {
       "output_type": "stream",
       "stream": "stdout",
       "text": [
        "a\n",
        "b\n",
        "enforcing constraints for digram: (<=a[S42]=>,<=b[S43])\n",
        "R8[R8]=> -|> <=a[S42]=> <=b[S43]\n",
        "\n",
        "a\n",
        "enforcing constraints for digram: (<=b[S43]=>,<=a[S44])\n",
        "R8[R8]=> -|> <=a[S42]=> <=b[S43]=> <=a[S44]\n",
        "\n",
        "b\n",
        "enforcing constraints for digram: (<=a[S44]=>,<=b[S45])\n",
        "enforcing constraints for digram: (<=R9[S49]=>,<=R9[S48])\n",
        "R8[R8]=> -|> <=R9[S49]=> <=R9[S48]\n",
        "R9[R9]=> -|> <=a[S46]=> <=b[S47]\n",
        "\n",
        "a\n",
        "enforcing constraints for digram: (<=R9[S48]=>,<=a[S50])\n",
        "R8[R8]=> -|> <=R9[S49]=> <=R9[S48]=> <=a[S50]\n",
        "R9[R9]=> -|> <=a[S46]=> <=b[S47]\n",
        "\n",
        "b\n",
        "enforcing constraints for digram: (<=a[S50]=>,<=b[S51])\n",
        "enforcing constraints for digram: (<=R9[S48]=>,<=R9[S52])\n",
        "R8[R8]=> -|> <=R9[S49]=> <=R9[S48]=> <=R9[S52]\n",
        "R9[R9]=> -|> <=a[S46]=> <=b[S47]\n",
        "\n",
        "a\n",
        "enforcing constraints for digram: (<=R9[S52]=>,<=a[S53])\n",
        "R8[R8]=> -|> <=R9[S49]=> <=R9[S48]=> <=R9[S52]=> <=a[S53]\n",
        "R9[R9]=> -|> <=a[S46]=> <=b[S47]\n",
        "\n",
        "b\n",
        "enforcing constraints for digram: (<=a[S53]=>,<=b[S54])\n",
        "enforcing constraints for digram: (<=R9[S52]=>,<=R9[S55])\n",
        "reducing reference count: R9[S52]=>\n",
        "reducing reference count: <=R9[S55]\n",
        "reducing reference count: R9[S49]=>\n",
        "reducing reference count: <=R9[S48]\n",
        "enforcing constraints for digram: (<=R10[S59]=>,<=R10[S58])\n",
        "R8[R8]=> -|> <=R10[S59]=> <=R10[S58]\n",
        "R9[R9]=> -|> <=a[S46]=> <=b[S47]\n",
        "R10[R10]=> -|> <=R9[S56]=> <=R9[S57]\n",
        "\n",
        "a\n",
        "enforcing constraints for digram: (<=R10[S58]=>,<=a[S60])\n",
        "R8[R8]=> -|> <=R10[S59]=> <=R10[S58]=> <=a[S60]\n",
        "R9[R9]=> -|> <=a[S46]=> <=b[S47]\n",
        "R10[R10]=> -|> <=R9[S56]=> <=R9[S57]\n",
        "\n",
        "b\n",
        "enforcing constraints for digram: (<=a[S60]=>,<=b[S61])\n",
        "enforcing constraints for digram: (<=R10[S58]=>,<=R9[S62])\n",
        "R8[R8]=> -|> <=R10[S59]=> <=R10[S58]=> <=R9[S62]\n",
        "R9[R9]=> -|> <=a[S46]=> <=b[S47]\n",
        "R10[R10]=> -|> <=R9[S56]=> <=R9[S57]\n",
        "\n",
        "a\n",
        "enforcing constraints for digram: (<=R9[S62]=>,<=a[S63])\n",
        "R8[R8]=> -|> <=R10[S59]=> <=R10[S58]=> <=R9[S62]=> <=a[S63]\n",
        "R9[R9]=> -|> <=a[S46]=> <=b[S47]\n",
        "R10[R10]=> -|> <=R9[S56]=> <=R9[S57]\n",
        "\n",
        "b\n",
        "enforcing constraints for digram: (<=a[S63]=>,<=b[S64])\n",
        "enforcing constraints for digram: (<=R9[S62]=>,<=R9[S65])\n",
        "reducing reference count: R9[S62]=>\n",
        "reducing reference count: <=R9[S65]\n",
        "enforcing constraints for digram: (<=R10[S58]=>,<=R10[S66])\n",
        "R8[R8]=> -|> <=R10[S59]=> <=R10[S58]=> <=R10[S66]\n",
        "R9[R9]=> -|> <=a[S46]=> <=b[S47]\n",
        "R10[R10]=> -|> <=R9[S56]=> <=R9[S57]\n",
        "\n",
        "a\n",
        "enforcing constraints for digram: (<=R10[S66]=>,<=a[S67])\n",
        "R8[R8]=> -|> <=R10[S59]=> <=R10[S58]=> <=R10[S66]=> <=a[S67]\n",
        "R9[R9]=> -|> <=a[S46]=> <=b[S47]\n",
        "R10[R10]=> -|> <=R9[S56]=> <=R9[S57]\n",
        "\n",
        "b\n",
        "enforcing constraints for digram: (<=a[S67]=>,<=b[S68])\n",
        "enforcing constraints for digram: (<=R10[S66]=>,<=R9[S69])\n",
        "R8[R8]=> -|> <=R10[S59]=> <=R10[S58]=> <=R10[S66]=> <=R9[S69]\n",
        "R9[R9]=> -|> <=a[S46]=> <=b[S47]\n",
        "R10[R10]=> -|> <=R9[S56]=> <=R9[S57]\n",
        "\n",
        "a\n",
        "enforcing constraints for digram: (<=R9[S69]=>,<=a[S70])\n",
        "R8[R8]=> -|> <=R10[S59]=> <=R10[S58]=> <=R10[S66]=> <=R9[S69]=> <=a[S70]\n",
        "R9[R9]=> -|> <=a[S46]=> <=b[S47]\n",
        "R10[R10]=> -|> <=R9[S56]=> <=R9[S57]\n",
        "\n",
        "b\n",
        "enforcing constraints for digram: (<=a[S70]=>,<=b[S71])\n",
        "enforcing constraints for digram: (<=R9[S69]=>,<=R9[S72])\n",
        "reducing reference count: R9[S69]=>\n",
        "reducing reference count: <=R9[S72]\n",
        "enforcing constraints for digram: (<=R10[S66]=>,<=R10[S73])\n",
        "reducing reference count: R10[S66]=>\n",
        "reducing reference count: <=R10[S73]\n",
        "reducing reference count: R10[S59]=>\n",
        "reducing reference count: <=R10[S58]\n",
        "enforcing constraints for digram: (<=R11[S77]=>,<=R11[S76])\n",
        "R8[R8]=> -|> <=R11[S77]=> <=R11[S76]\n",
        "R9[R9]=> -|> <=a[S46]=> <=b[S47]\n",
        "R10[R10]=> -|> <=R9[S56]=> <=R9[S57]\n",
        "R11[R11]=> -|> <=R10[S74]=> <=R10[S75]\n",
        "\n",
        "a\n",
        "enforcing constraints for digram: (<=R11[S76]=>,<=a[S78])\n",
        "R8[R8]=> -|> <=R11[S77]=> <=R11[S76]=> <=a[S78]\n",
        "R9[R9]=> -|> <=a[S46]=> <=b[S47]\n",
        "R10[R10]=> -|> <=R9[S56]=> <=R9[S57]\n",
        "R11[R11]=> -|> <=R10[S74]=> <=R10[S75]\n",
        "\n",
        "b\n",
        "enforcing constraints for digram: (<=a[S78]=>,<=b[S79])\n",
        "enforcing constraints for digram: (<=R11[S76]=>,<=R9[S80])\n",
        "R8[R8]=> -|> <=R11[S77]=> <=R11[S76]=> <=R9[S80]\n",
        "R9[R9]=> -|> <=a[S46]=> <=b[S47]\n",
        "R10[R10]=> -|> <=R9[S56]=> <=R9[S57]\n",
        "R11[R11]=> -|> <=R10[S74]=> <=R10[S75]\n",
        "\n",
        "a\n",
        "enforcing constraints for digram: (<=R9[S80]=>,<=a[S81])\n",
        "R8[R8]=> -|> <=R11[S77]=> <=R11[S76]=> <=R9[S80]=> <=a[S81]\n",
        "R9[R9]=> -|> <=a[S46]=> <=b[S47]\n",
        "R10[R10]=> -|> <=R9[S56]=> <=R9[S57]\n",
        "R11[R11]=> -|> <=R10[S74]=> <=R10[S75]\n",
        "\n",
        "b\n",
        "enforcing constraints for digram: (<=a[S81]=>,<=b[S82])\n",
        "enforcing constraints for digram: (<=R9[S80]=>,<=R9[S83])\n",
        "reducing reference count: R9[S80]=>\n",
        "reducing reference count: <=R9[S83]\n",
        "enforcing constraints for digram: (<=R11[S76]=>,<=R10[S84])\n",
        "R8[R8]=> -|> <=R11[S77]=> <=R11[S76]=> <=R10[S84]\n",
        "R9[R9]=> -|> <=a[S46]=> <=b[S47]\n",
        "R10[R10]=> -|> <=R9[S56]=> <=R9[S57]\n",
        "R11[R11]=> -|> <=R10[S74]=> <=R10[S75]\n",
        "\n",
        "a\n",
        "enforcing constraints for digram: (<=R10[S84]=>,<=a[S85])\n",
        "R8[R8]=> -|> <=R11[S77]=> <=R11[S76]=> <=R10[S84]=> <=a[S85]\n",
        "R9[R9]=> -|> <=a[S46]=> <=b[S47]\n",
        "R10[R10]=> -|> <=R9[S56]=> <=R9[S57]\n",
        "R11[R11]=> -|> <=R10[S74]=> <=R10[S75]\n",
        "\n",
        "b\n",
        "enforcing constraints for digram: (<=a[S85]=>,<=b[S86])\n",
        "enforcing constraints for digram: (<=R10[S84]=>,<=R9[S87])\n",
        "R8[R8]=> -|> <=R11[S77]=> <=R11[S76]=> <=R10[S84]=> <=R9[S87]\n",
        "R9[R9]=> -|> <=a[S46]=> <=b[S47]\n",
        "R10[R10]=> -|> <=R9[S56]=> <=R9[S57]\n",
        "R11[R11]=> -|> <=R10[S74]=> <=R10[S75]\n",
        "\n",
        "a\n",
        "enforcing constraints for digram: (<=R9[S87]=>,<=a[S88])\n",
        "R8[R8]=> -|> <=R11[S77]=> <=R11[S76]=> <=R10[S84]=> <=R9[S87]=> <=a[S88]\n",
        "R9[R9]=> -|> <=a[S46]=> <=b[S47]\n",
        "R10[R10]=> -|> <=R9[S56]=> <=R9[S57]\n",
        "R11[R11]=> -|> <=R10[S74]=> <=R10[S75]\n",
        "\n",
        "b\n",
        "enforcing constraints for digram: (<=a[S88]=>,<=b[S89])\n",
        "enforcing constraints for digram: (<=R9[S87]=>,<=R9[S90])\n",
        "reducing reference count: R9[S87]=>\n",
        "reducing reference count: <=R9[S90]\n",
        "enforcing constraints for digram: (<=R10[S84]=>,<=R10[S91])\n",
        "reducing reference count: R10[S84]=>\n",
        "reducing reference count: <=R10[S91]\n",
        "enforcing constraints for digram: (<=R11[S76]=>,<=R11[S92])\n",
        "R8[R8]=> -|> <=R11[S77]=> <=R11[S76]=> <=R11[S92]\n",
        "R9[R9]=> -|> <=a[S46]=> <=b[S47]\n",
        "R10[R10]=> -|> <=R9[S56]=> <=R9[S57]\n",
        "R11[R11]=> -|> <=R10[S74]=> <=R10[S75]\n",
        "\n",
        "a\n",
        "enforcing constraints for digram: (<=R11[S92]=>,<=a[S93])\n",
        "R8[R8]=> -|> <=R11[S77]=> <=R11[S76]=> <=R11[S92]=> <=a[S93]\n",
        "R9[R9]=> -|> <=a[S46]=> <=b[S47]\n",
        "R10[R10]=> -|> <=R9[S56]=> <=R9[S57]\n",
        "R11[R11]=> -|> <=R10[S74]=> <=R10[S75]\n",
        "\n",
        "b\n",
        "enforcing constraints for digram: (<=a[S93]=>,<=b[S94])\n",
        "enforcing constraints for digram: (<=R11[S92]=>,<=R9[S95])\n",
        "R8[R8]=> -|> <=R11[S77]=> <=R11[S76]=> <=R11[S92]=> <=R9[S95]\n",
        "R9[R9]=> -|> <=a[S46]=> <=b[S47]\n",
        "R10[R10]=> -|> <=R9[S56]=> <=R9[S57]\n",
        "R11[R11]=> -|> <=R10[S74]=> <=R10[S75]\n",
        "\n"
       ]
      },
      {
       "metadata": {},
       "output_type": "pyout",
       "prompt_number": 319,
       "text": [
        "<__main__.Grammar instance at 0x10b0c90e0>"
       ]
      }
     ],
     "prompt_number": 319
    },
    {
     "cell_type": "code",
     "collapsed": false,
     "input": [
      "q = set([(1,2)])\n",
      "r = set([(2,1)])\n",
      "print q,r\n",
      "print q == r"
     ],
     "language": "python",
     "metadata": {},
     "outputs": [
      {
       "output_type": "stream",
       "stream": "stdout",
       "text": [
        "set([(1, 2)]) set([(2, 1)])\n",
        "False\n"
       ]
      }
     ],
     "prompt_number": 131
    },
    {
     "cell_type": "code",
     "collapsed": false,
     "input": [
      "%debug"
     ],
     "language": "python",
     "metadata": {},
     "outputs": [
      {
       "output_type": "stream",
       "stream": "stdout",
       "text": [
        "> \u001b[0;32m<ipython-input-122-85c6854a3cec>\u001b[0m(170)\u001b[0;36mgetRule\u001b[0;34m()\u001b[0m\n",
        "\u001b[0;32m    169 \u001b[0;31m        \u001b[0;31m# current is the LHS of a rule\u001b[0m\u001b[0;34m\u001b[0m\u001b[0;34m\u001b[0m\u001b[0m\n",
        "\u001b[0m\u001b[0;32m--> 170 \u001b[0;31m        \u001b[0;32mreturn\u001b[0m \u001b[0mself\u001b[0m\u001b[0;34m.\u001b[0m\u001b[0mrules\u001b[0m\u001b[0;34m[\u001b[0m\u001b[0mcurrent\u001b[0m\u001b[0;34m.\u001b[0m\u001b[0mvalue\u001b[0m\u001b[0;34m]\u001b[0m\u001b[0;34m\u001b[0m\u001b[0m\n",
        "\u001b[0m\u001b[0;32m    171 \u001b[0;31m\u001b[0;34m\u001b[0m\u001b[0m\n",
        "\u001b[0m\n"
       ]
      },
      {
       "name": "stdout",
       "output_type": "stream",
       "stream": "stdout",
       "text": [
        "ipdb> l\n"
       ]
      },
      {
       "output_type": "stream",
       "stream": "stdout",
       "text": [
        "\u001b[1;32m    165 \u001b[0m    \u001b[0;32mdef\u001b[0m \u001b[0mgetRule\u001b[0m\u001b[0;34m(\u001b[0m\u001b[0mself\u001b[0m\u001b[0;34m,\u001b[0m \u001b[0mdigram\u001b[0m\u001b[0;34m)\u001b[0m\u001b[0;34m:\u001b[0m\u001b[0;34m\u001b[0m\u001b[0m\n",
        "\u001b[1;32m    166 \u001b[0m        \u001b[0mcurrent\u001b[0m \u001b[0;34m=\u001b[0m \u001b[0mdigram\u001b[0m\u001b[0;34m.\u001b[0m\u001b[0mfirst\u001b[0m\u001b[0;34m\u001b[0m\u001b[0m\n",
        "\u001b[1;32m    167 \u001b[0m        \u001b[0;32mwhile\u001b[0m \u001b[0mcurrent\u001b[0m\u001b[0;34m.\u001b[0m\u001b[0mprevious_symbol\u001b[0m\u001b[0;34m:\u001b[0m\u001b[0;34m\u001b[0m\u001b[0m\n",
        "\u001b[1;32m    168 \u001b[0m            \u001b[0mcurrent\u001b[0m \u001b[0;34m=\u001b[0m \u001b[0mcurrent\u001b[0m\u001b[0;34m.\u001b[0m\u001b[0mprevious_symbol\u001b[0m\u001b[0;34m\u001b[0m\u001b[0m\n",
        "\u001b[1;32m    169 \u001b[0m        \u001b[0;31m# current is the LHS of a rule\u001b[0m\u001b[0;34m\u001b[0m\u001b[0;34m\u001b[0m\u001b[0m\n",
        "\u001b[0;32m--> 170 \u001b[0;31m        \u001b[0;32mreturn\u001b[0m \u001b[0mself\u001b[0m\u001b[0;34m.\u001b[0m\u001b[0mrules\u001b[0m\u001b[0;34m[\u001b[0m\u001b[0mcurrent\u001b[0m\u001b[0;34m.\u001b[0m\u001b[0mvalue\u001b[0m\u001b[0;34m]\u001b[0m\u001b[0;34m\u001b[0m\u001b[0m\n",
        "\u001b[0m\u001b[1;32m    171 \u001b[0m\u001b[0;34m\u001b[0m\u001b[0m\n",
        "\u001b[1;32m    172 \u001b[0m\u001b[0;34m\u001b[0m\u001b[0m\n",
        "\u001b[1;32m    173 \u001b[0m    \u001b[0;32mdef\u001b[0m \u001b[0m__str__\u001b[0m\u001b[0;34m(\u001b[0m\u001b[0mself\u001b[0m\u001b[0;34m)\u001b[0m\u001b[0;34m:\u001b[0m\u001b[0;34m\u001b[0m\u001b[0m\n",
        "\u001b[1;32m    174 \u001b[0m        \u001b[0moutput\u001b[0m \u001b[0;34m=\u001b[0m \u001b[0;34m''\u001b[0m\u001b[0;34m\u001b[0m\u001b[0m\n",
        "\u001b[1;32m    175 \u001b[0m        \u001b[0;32mfor\u001b[0m \u001b[0mkey\u001b[0m\u001b[0;34m,\u001b[0m \u001b[0mvalue\u001b[0m \u001b[0;32min\u001b[0m \u001b[0mself\u001b[0m\u001b[0;34m.\u001b[0m\u001b[0mrules\u001b[0m\u001b[0;34m.\u001b[0m\u001b[0miteritems\u001b[0m\u001b[0;34m(\u001b[0m\u001b[0;34m)\u001b[0m\u001b[0;34m:\u001b[0m\u001b[0;34m\u001b[0m\u001b[0m\n",
        "\n"
       ]
      },
      {
       "name": "stdout",
       "output_type": "stream",
       "stream": "stdout",
       "text": [
        "ipdb> digram\n"
       ]
      },
      {
       "output_type": "stream",
       "stream": "stdout",
       "text": [
        "<__main__.Digram instance at 0x10b0744d0>\n"
       ]
      },
      {
       "name": "stdout",
       "output_type": "stream",
       "stream": "stdout",
       "text": [
        "ipdb> print digram\n"
       ]
      },
      {
       "output_type": "stream",
       "stream": "stdout",
       "text": [
        "(b[S4]=>,<=c[S5])\n"
       ]
      },
      {
       "name": "stdout",
       "output_type": "stream",
       "stream": "stdout",
       "text": [
        "ipdb> print self\n"
       ]
      },
      {
       "output_type": "stream",
       "stream": "stdout",
       "text": [
        "R0[R0]=> -|> <=a[S0]=> <=R1[S7]=> <=d[S3]=> <=R1[S6]=> <=a[S8]=> <=b[S9]=> <=c[S10]\n",
        "R1[R1]=> -|> <=b[S1]=> <=c[S2]\n",
        "\n"
       ]
      },
      {
       "name": "stdout",
       "output_type": "stream",
       "stream": "stdout",
       "text": [
        "ipdb> l\n"
       ]
      },
      {
       "output_type": "stream",
       "stream": "stdout",
       "text": [
        "\u001b[1;32m    176 \u001b[0m            \u001b[0moutput\u001b[0m \u001b[0;34m+=\u001b[0m \u001b[0mstr\u001b[0m\u001b[0;34m(\u001b[0m\u001b[0mvalue\u001b[0m\u001b[0;34m)\u001b[0m \u001b[0;34m+\u001b[0m \u001b[0;34m'\\n'\u001b[0m\u001b[0;34m\u001b[0m\u001b[0m\n",
        "\u001b[1;32m    177 \u001b[0m        \u001b[0;32mreturn\u001b[0m \u001b[0moutput\u001b[0m\u001b[0;34m\u001b[0m\u001b[0m\n",
        "\u001b[1;32m    178 \u001b[0m\u001b[0;34m\u001b[0m\u001b[0m\n",
        "\n"
       ]
      },
      {
       "name": "stdout",
       "output_type": "stream",
       "stream": "stdout",
       "text": [
        "ipdb> for k,v in self.digrams.iteritems(): print k,v\n"
       ]
      },
      {
       "output_type": "stream",
       "stream": "stdout",
       "text": [
        "('b', 'c') (b[S4]=>,<=c[S5])\n",
        "('R1', 'd') (<=R1[S7]=>,<=d[S3]=>)\n",
        "('a', 'R1') (<=a[S0]=>,<=R1[S7]=>)\n",
        "('R1', 'a') (<=R1[S6]=>,<=a[S8]=>)\n",
        "('a', 'b') (<=a[S8]=>,<=b[S9]=>)\n",
        "('d', 'R1') (<=d[S3]=>,<=R1[S6]=>)\n"
       ]
      },
      {
       "name": "stdout",
       "output_type": "stream",
       "stream": "stdout",
       "text": [
        "ipdb> print self\n"
       ]
      },
      {
       "output_type": "stream",
       "stream": "stdout",
       "text": [
        "R0[R0]=> -|> <=a[S0]=> <=R1[S7]=> <=d[S3]=> <=R1[S6]=> <=a[S8]=> <=b[S9]=> <=c[S10]\n",
        "R1[R1]=> -|> <=b[S1]=> <=c[S2]\n",
        "\n"
       ]
      },
      {
       "name": "stdout",
       "output_type": "stream",
       "stream": "stdout",
       "text": [
        "ipdb> l\n"
       ]
      },
      {
       "output_type": "stream",
       "stream": "stdout",
       "text": [
        "\n"
       ]
      },
      {
       "name": "stdout",
       "output_type": "stream",
       "stream": "stdout",
       "text": [
        "ipdb> l\n"
       ]
      },
      {
       "output_type": "stream",
       "stream": "stdout",
       "text": [
        "\n"
       ]
      },
      {
       "name": "stdout",
       "output_type": "stream",
       "stream": "stdout",
       "text": [
        "ipdb> self.rules\n"
       ]
      },
      {
       "output_type": "stream",
       "stream": "stdout",
       "text": [
        "{'R0': <__main__.Rule instance at 0x10affbb48>, 'R1': <__main__.Rule instance at 0x10b074440>}\n"
       ]
      },
      {
       "name": "stdout",
       "output_type": "stream",
       "stream": "stdout",
       "text": [
        "ipdb> current\n"
       ]
      },
      {
       "output_type": "stream",
       "stream": "stdout",
       "text": [
        "<__main__.Symbol instance at 0x10b0747e8>\n"
       ]
      },
      {
       "name": "stdout",
       "output_type": "stream",
       "stream": "stdout",
       "text": [
        "ipdb> print current\n"
       ]
      },
      {
       "output_type": "stream",
       "stream": "stdout",
       "text": [
        "b[S4]=>\n"
       ]
      },
      {
       "name": "stdout",
       "output_type": "stream",
       "stream": "stdout",
       "text": [
        "ipdb> print digram\n"
       ]
      },
      {
       "output_type": "stream",
       "stream": "stdout",
       "text": [
        "(b[S4]=>,<=c[S5])\n"
       ]
      },
      {
       "name": "stdout",
       "output_type": "stream",
       "stream": "stdout",
       "text": [
        "ipdb> u\n"
       ]
      },
      {
       "output_type": "stream",
       "stream": "stdout",
       "text": [
        "> \u001b[0;32m<ipython-input-122-85c6854a3cec>\u001b[0m(127)\u001b[0;36menforceConstraints\u001b[0;34m()\u001b[0m\n",
        "\u001b[0;32m    126 \u001b[0;31m        \u001b[0;32mif\u001b[0m \u001b[0mdigram_id\u001b[0m \u001b[0;32min\u001b[0m \u001b[0mself\u001b[0m\u001b[0;34m.\u001b[0m\u001b[0mdigrams\u001b[0m\u001b[0;34m:\u001b[0m\u001b[0;34m\u001b[0m\u001b[0m\n",
        "\u001b[0m\u001b[0;32m--> 127 \u001b[0;31m            \u001b[0mexisting_digram_rule\u001b[0m \u001b[0;34m=\u001b[0m \u001b[0mself\u001b[0m\u001b[0;34m.\u001b[0m\u001b[0mgetRule\u001b[0m\u001b[0;34m(\u001b[0m\u001b[0mself\u001b[0m\u001b[0;34m.\u001b[0m\u001b[0mdigrams\u001b[0m\u001b[0;34m[\u001b[0m\u001b[0mdigram_id\u001b[0m\u001b[0;34m]\u001b[0m\u001b[0;34m)\u001b[0m\u001b[0;34m\u001b[0m\u001b[0m\n",
        "\u001b[0m\u001b[0;32m    128 \u001b[0;31m            \u001b[0;32mif\u001b[0m \u001b[0mexisting_digram_rule\u001b[0m\u001b[0;34m.\u001b[0m\u001b[0misRHS\u001b[0m\u001b[0;34m(\u001b[0m\u001b[0mself\u001b[0m\u001b[0;34m.\u001b[0m\u001b[0mdigrams\u001b[0m\u001b[0;34m[\u001b[0m\u001b[0mdigram_id\u001b[0m\u001b[0;34m]\u001b[0m\u001b[0;34m)\u001b[0m\u001b[0;34m:\u001b[0m\u001b[0;34m\u001b[0m\u001b[0m\n",
        "\u001b[0m\n"
       ]
      },
      {
       "name": "stdout",
       "output_type": "stream",
       "stream": "stdout",
       "text": [
        "ipdb> l\n"
       ]
      },
      {
       "output_type": "stream",
       "stream": "stdout",
       "text": [
        "\u001b[1;32m    122 \u001b[0m        \u001b[0;31m# ensure digram uniqueness\u001b[0m\u001b[0;34m\u001b[0m\u001b[0;34m\u001b[0m\u001b[0m\n",
        "\u001b[1;32m    123 \u001b[0m        \u001b[0;32mprint\u001b[0m \u001b[0;34m'enforcing constraints for digram: %s'\u001b[0m \u001b[0;34m%\u001b[0m \u001b[0mdigram\u001b[0m\u001b[0;34m\u001b[0m\u001b[0m\n",
        "\u001b[1;32m    124 \u001b[0m        \u001b[0mrule\u001b[0m \u001b[0;34m=\u001b[0m \u001b[0mself\u001b[0m\u001b[0;34m.\u001b[0m\u001b[0mgetRule\u001b[0m\u001b[0;34m(\u001b[0m\u001b[0mdigram\u001b[0m\u001b[0;34m)\u001b[0m\u001b[0;34m\u001b[0m\u001b[0m\n",
        "\u001b[1;32m    125 \u001b[0m        \u001b[0mdigram_id\u001b[0m \u001b[0;34m=\u001b[0m \u001b[0mdigram\u001b[0m\u001b[0;34m.\u001b[0m\u001b[0mgetId\u001b[0m\u001b[0;34m(\u001b[0m\u001b[0;34m)\u001b[0m\u001b[0;34m\u001b[0m\u001b[0m\n",
        "\u001b[1;32m    126 \u001b[0m        \u001b[0;32mif\u001b[0m \u001b[0mdigram_id\u001b[0m \u001b[0;32min\u001b[0m \u001b[0mself\u001b[0m\u001b[0;34m.\u001b[0m\u001b[0mdigrams\u001b[0m\u001b[0;34m:\u001b[0m\u001b[0;34m\u001b[0m\u001b[0m\n",
        "\u001b[0;32m--> 127 \u001b[0;31m            \u001b[0mexisting_digram_rule\u001b[0m \u001b[0;34m=\u001b[0m \u001b[0mself\u001b[0m\u001b[0;34m.\u001b[0m\u001b[0mgetRule\u001b[0m\u001b[0;34m(\u001b[0m\u001b[0mself\u001b[0m\u001b[0;34m.\u001b[0m\u001b[0mdigrams\u001b[0m\u001b[0;34m[\u001b[0m\u001b[0mdigram_id\u001b[0m\u001b[0;34m]\u001b[0m\u001b[0;34m)\u001b[0m\u001b[0;34m\u001b[0m\u001b[0m\n",
        "\u001b[0m\u001b[1;32m    128 \u001b[0m            \u001b[0;32mif\u001b[0m \u001b[0mexisting_digram_rule\u001b[0m\u001b[0;34m.\u001b[0m\u001b[0misRHS\u001b[0m\u001b[0;34m(\u001b[0m\u001b[0mself\u001b[0m\u001b[0;34m.\u001b[0m\u001b[0mdigrams\u001b[0m\u001b[0;34m[\u001b[0m\u001b[0mdigram_id\u001b[0m\u001b[0;34m]\u001b[0m\u001b[0;34m)\u001b[0m\u001b[0;34m:\u001b[0m\u001b[0;34m\u001b[0m\u001b[0m\n",
        "\u001b[1;32m    129 \u001b[0m                \u001b[0mnew_digrams\u001b[0m \u001b[0;34m=\u001b[0m \u001b[0mrule\u001b[0m\u001b[0;34m.\u001b[0m\u001b[0msubstituteRule\u001b[0m\u001b[0;34m(\u001b[0m\u001b[0mdigram\u001b[0m\u001b[0;34m,\u001b[0m \u001b[0mexisting_digram_rule\u001b[0m\u001b[0;34m)\u001b[0m\u001b[0;34m\u001b[0m\u001b[0m\n",
        "\u001b[1;32m    130 \u001b[0m                \u001b[0;32mfor\u001b[0m \u001b[0mnew_digram\u001b[0m \u001b[0;32min\u001b[0m \u001b[0mnew_digrams\u001b[0m\u001b[0;34m:\u001b[0m\u001b[0;34m\u001b[0m\u001b[0m\n",
        "\u001b[1;32m    131 \u001b[0m                    \u001b[0mself\u001b[0m\u001b[0;34m.\u001b[0m\u001b[0menforceConstraints\u001b[0m\u001b[0;34m(\u001b[0m\u001b[0mnew_digram\u001b[0m\u001b[0;34m)\u001b[0m\u001b[0;34m\u001b[0m\u001b[0m\n",
        "\u001b[1;32m    132 \u001b[0m            \u001b[0;32melse\u001b[0m\u001b[0;34m:\u001b[0m\u001b[0;34m\u001b[0m\u001b[0m\n",
        "\n"
       ]
      },
      {
       "name": "stdout",
       "output_type": "stream",
       "stream": "stdout",
       "text": [
        "ipdb> print digram\n"
       ]
      },
      {
       "output_type": "stream",
       "stream": "stdout",
       "text": [
        "(<=b[S9]=>,<=c[S10])\n"
       ]
      },
      {
       "name": "stdout",
       "output_type": "stream",
       "stream": "stdout",
       "text": [
        "ipdb> print self.digrams\n"
       ]
      },
      {
       "output_type": "stream",
       "stream": "stdout",
       "text": [
        "{('b', 'c'): <__main__.Digram instance at 0x10b0744d0>, ('R1', 'd'): <__main__.Digram instance at 0x10ae4c320>, ('a', 'R1'): <__main__.Digram instance at 0x10ae4c050>, ('R1', 'a'): <__main__.Digram instance at 0x10aea4098>, ('a', 'b'): <__main__.Digram instance at 0x10b098098>, ('d', 'R1'): <__main__.Digram instance at 0x10ae63830>}\n"
       ]
      },
      {
       "name": "stdout",
       "output_type": "stream",
       "stream": "stdout",
       "text": [
        "ipdb> for k,v in self.digrams.iteritems(): print k,v\n"
       ]
      },
      {
       "output_type": "stream",
       "stream": "stdout",
       "text": [
        "('b', 'c') (b[S4]=>,<=c[S5])\n",
        "('R1', 'd') (<=R1[S7]=>,<=d[S3]=>)\n",
        "('a', 'R1') (<=a[S0]=>,<=R1[S7]=>)\n",
        "('R1', 'a') (<=R1[S6]=>,<=a[S8]=>)\n",
        "('a', 'b') (<=a[S8]=>,<=b[S9]=>)\n",
        "('d', 'R1') (<=d[S3]=>,<=R1[S6]=>)\n"
       ]
      },
      {
       "name": "stdout",
       "output_type": "stream",
       "stream": "stdout",
       "text": [
        "ipdb> print self\n"
       ]
      },
      {
       "output_type": "stream",
       "stream": "stdout",
       "text": [
        "R0[R0]=> -|> <=a[S0]=> <=R1[S7]=> <=d[S3]=> <=R1[S6]=> <=a[S8]=> <=b[S9]=> <=c[S10]\n",
        "R1[R1]=> -|> <=b[S1]=> <=c[S2]\n",
        "\n"
       ]
      },
      {
       "name": "stdout",
       "output_type": "stream",
       "stream": "stdout",
       "text": [
        "ipdb> q\n"
       ]
      }
     ],
     "prompt_number": 124
    },
    {
     "cell_type": "code",
     "collapsed": false,
     "input": [
      "def listProcess(a):\n",
      "    a[0] = 1\n",
      "    \n",
      "test = [0,1,2]\n",
      "listProcess(test)\n",
      "print test"
     ],
     "language": "python",
     "metadata": {},
     "outputs": [
      {
       "output_type": "stream",
       "stream": "stdout",
       "text": [
        "[1, 1, 2]\n"
       ]
      }
     ],
     "prompt_number": 1
    },
    {
     "cell_type": "code",
     "collapsed": false,
     "input": [
      "import uuid\n",
      "uuid.uuid1()"
     ],
     "language": "python",
     "metadata": {},
     "outputs": [
      {
       "metadata": {},
       "output_type": "pyout",
       "prompt_number": 5,
       "text": [
        "UUID('bc097f57-a196-11e4-aff0-2cf0ee145868')"
       ]
      }
     ],
     "prompt_number": 5
    },
    {
     "cell_type": "code",
     "collapsed": false,
     "input": [
      "q = {[1,2]: 3}"
     ],
     "language": "python",
     "metadata": {},
     "outputs": [
      {
       "ename": "TypeError",
       "evalue": "unhashable type: 'list'",
       "output_type": "pyerr",
       "traceback": [
        "\u001b[0;31m---------------------------------------------------------------------------\u001b[0m\n\u001b[0;31mTypeError\u001b[0m                                 Traceback (most recent call last)",
        "\u001b[0;32m<ipython-input-9-4c356603609b>\u001b[0m in \u001b[0;36m<module>\u001b[0;34m()\u001b[0m\n\u001b[0;32m----> 1\u001b[0;31m \u001b[0mq\u001b[0m \u001b[0;34m=\u001b[0m \u001b[0;34m{\u001b[0m\u001b[0;34m[\u001b[0m\u001b[0;36m1\u001b[0m\u001b[0;34m,\u001b[0m\u001b[0;36m2\u001b[0m\u001b[0;34m]\u001b[0m\u001b[0;34m:\u001b[0m \u001b[0;36m3\u001b[0m\u001b[0;34m}\u001b[0m\u001b[0;34m\u001b[0m\u001b[0m\n\u001b[0m",
        "\u001b[0;31mTypeError\u001b[0m: unhashable type: 'list'"
       ]
      }
     ],
     "prompt_number": 9
    },
    {
     "cell_type": "code",
     "collapsed": false,
     "input": [],
     "language": "python",
     "metadata": {},
     "outputs": []
    }
   ],
   "metadata": {}
  }
 ]
}