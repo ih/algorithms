{
 "metadata": {
  "name": "",
  "signature": "sha256:6d7feddc006f000df8e6d055beb4432bf042523340f72425310d47a6323d715a"
 },
 "nbformat": 3,
 "nbformat_minor": 0,
 "worksheets": [
  {
   "cells": [
    {
     "cell_type": "code",
     "collapsed": false,
     "input": [
      "def treeHeight(cycles):\n",
      "    current_cycle = True\n",
      "    height = 1\n",
      "    for i in range(cycles):\n",
      "        if current_cycle:\n",
      "            height *= 2\n",
      "        else:\n",
      "            height += 1\n",
      "        current_cycle = not current_cycle\n",
      "    return height"
     ],
     "language": "python",
     "metadata": {},
     "outputs": [],
     "prompt_number": 1
    },
    {
     "cell_type": "code",
     "collapsed": false,
     "input": [
      "treeHeight(4)"
     ],
     "language": "python",
     "metadata": {},
     "outputs": [
      {
       "metadata": {},
       "output_type": "pyout",
       "prompt_number": 2,
       "text": [
        "7"
       ]
      }
     ],
     "prompt_number": 2
    },
    {
     "cell_type": "code",
     "collapsed": false,
     "input": [],
     "language": "python",
     "metadata": {},
     "outputs": []
    }
   ],
   "metadata": {}
  }
 ]
}